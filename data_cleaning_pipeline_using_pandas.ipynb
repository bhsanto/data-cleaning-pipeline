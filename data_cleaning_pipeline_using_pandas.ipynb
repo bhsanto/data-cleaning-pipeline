{
  "nbformat": 4,
  "nbformat_minor": 0,
  "metadata": {
    "colab": {
      "provenance": [],
      "authorship_tag": "ABX9TyOpbQICuvRd+1xxSiK+HnRM"
    },
    "kernelspec": {
      "name": "python3",
      "display_name": "Python 3"
    },
    "language_info": {
      "name": "python"
    }
  },
  "cells": [
    {
      "cell_type": "code",
      "execution_count": 24,
      "metadata": {
        "id": "6ZY2l6kOUWI3"
      },
      "outputs": [],
      "source": [
        "import numpy as np\n",
        "import pandas as pd"
      ]
    },
    {
      "cell_type": "code",
      "source": [
        "df = pd.read_csv('loan_prediction.csv')"
      ],
      "metadata": {
        "id": "AWfBxrshU3wd"
      },
      "execution_count": 25,
      "outputs": []
    },
    {
      "cell_type": "code",
      "source": [
        "df.head()"
      ],
      "metadata": {
        "collapsed": true,
        "id": "m5Mb_3rRWGKo"
      },
      "execution_count": null,
      "outputs": []
    },
    {
      "cell_type": "markdown",
      "source": [
        "Step 1: Understand the Data"
      ],
      "metadata": {
        "id": "E88fgZhwnH4n"
      }
    },
    {
      "cell_type": "code",
      "source": [
        "#Number of Rows and Columns\n",
        "print(f\"Rows: {df.shape[0]}, Columns: {df.shape[1]}\")"
      ],
      "metadata": {
        "id": "0qihaMmcryDT"
      },
      "execution_count": null,
      "outputs": []
    },
    {
      "cell_type": "code",
      "source": [
        "#Dataset Summary\n",
        "df.info()"
      ],
      "metadata": {
        "collapsed": true,
        "id": "6ygxB5F5sipb"
      },
      "execution_count": null,
      "outputs": []
    },
    {
      "cell_type": "code",
      "source": [
        "#Stats for both numeric and object columns\n",
        "print(df.describe(include='all'))"
      ],
      "metadata": {
        "collapsed": true,
        "id": "3z4bYc7ryhKZ"
      },
      "execution_count": null,
      "outputs": []
    },
    {
      "cell_type": "markdown",
      "source": [
        "Step 2: Handle Missing Values"
      ],
      "metadata": {
        "id": "u984ft-rzy2C"
      }
    },
    {
      "cell_type": "code",
      "source": [
        "#Count Missing Values\n",
        "missing = df.isnull().sum()\n",
        "missing = missing[missing != 0].sort_values(ascending = True)\n",
        "print(missing)"
      ],
      "metadata": {
        "id": "-pQH28tg3pMI"
      },
      "execution_count": null,
      "outputs": []
    }
  ]
}